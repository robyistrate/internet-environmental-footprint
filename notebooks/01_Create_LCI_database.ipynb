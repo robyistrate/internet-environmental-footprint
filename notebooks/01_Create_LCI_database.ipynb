{
 "cells": [
  {
   "attachments": {},
   "cell_type": "markdown",
   "id": "89d2ece1",
   "metadata": {},
   "source": [
    "# Environmental footprint of digital content consumption - LCI database creation"
   ]
  },
  {
   "cell_type": "code",
   "execution_count": 1,
   "id": "d3630862-7869-4189-90d2-617a590cb560",
   "metadata": {},
   "outputs": [],
   "source": [
    "import pandas as pd\n",
    "import numpy as np\n",
    "import brightway2 as bw\n",
    "import wurst\n",
    "from pathlib import Path\n",
    "import copy"
   ]
  },
  {
   "cell_type": "markdown",
   "id": "50c127a2-b667-413a-9ff5-12e490bf6fe7",
   "metadata": {},
   "source": [
    "# Basic set-up"
   ]
  },
  {
   "cell_type": "code",
   "execution_count": 2,
   "id": "903a60b0-cb9a-409f-807f-434eb55f993b",
   "metadata": {},
   "outputs": [],
   "source": [
    "BW_PROJECT = 'iri' # <- insert your project name here\n",
    "bw.projects.set_current(BW_PROJECT)\n",
    "ECOINVENT_DB = 'ecoinvent 3.8 cutoff'"
   ]
  },
  {
   "cell_type": "code",
   "execution_count": 3,
   "id": "7ca002d2-0dc8-4f61-af25-63520fd6b68a",
   "metadata": {},
   "outputs": [],
   "source": [
    "# Run some functions needed to create the Digital Content Consumption database\n",
    "%run _Functions_to_create_database.ipynb"
   ]
  },
  {
   "cell_type": "markdown",
   "id": "f84c4661-750a-4f04-84f2-b23eca49a20a",
   "metadata": {},
   "source": [
    "# Create Digital Content Consumption database"
   ]
  },
  {
   "cell_type": "markdown",
   "id": "b53f93a9-4991-4b84-b26a-411b9db72db8",
   "metadata": {},
   "source": [
    "Import ecoinvent and biosphere databases into list of dictionaries to facilitate filtering"
   ]
  },
  {
   "cell_type": "code",
   "execution_count": 4,
   "id": "2c745169-28dd-4857-8c1c-a9a694e357e7",
   "metadata": {},
   "outputs": [],
   "source": [
    "ei_db = [ds.as_dict() for ds in bw.Database(ECOINVENT_DB)]\n",
    "biosphere_db = [ef.as_dict() for ef in bw.Database('biosphere3')]"
   ]
  },
  {
   "cell_type": "markdown",
   "id": "fda4bf88-855a-4ce7-a1a9-73278456b12c",
   "metadata": {
    "tags": []
   },
   "source": [
    "Import inventories from Excel"
   ]
  },
  {
   "cell_type": "code",
   "execution_count": 5,
   "id": "a5ba788a-bf98-4575-b5bc-65943b49dbf5",
   "metadata": {},
   "outputs": [
    {
     "name": "stdout",
     "output_type": "stream",
     "text": [
      "Extracted 1 worksheets in 0.11 seconds\n",
      "Applying strategy: csv_restore_tuples\n",
      "Applying strategy: csv_restore_booleans\n",
      "Applying strategy: csv_numerize\n",
      "Applying strategy: csv_drop_unknown\n",
      "Applying strategy: csv_add_missing_exchanges_section\n",
      "Applying strategy: normalize_units\n",
      "Applying strategy: normalize_biosphere_categories\n",
      "Applying strategy: normalize_biosphere_names\n",
      "Applying strategy: strip_biosphere_exc_locations\n",
      "Applying strategy: set_code_by_activity_hash\n",
      "Applying strategy: link_iterable_by_fields\n",
      "Applying strategy: assign_only_product_as_production\n",
      "Applying strategy: link_technosphere_by_activity_hash\n",
      "Applying strategy: drop_falsey_uncertainty_fields_but_keep_zeros\n",
      "Applying strategy: convert_uncertainty_types_to_integers\n",
      "Applying strategy: convert_activity_parameters_to_list\n",
      "Applied 16 strategies in 0.22 seconds\n",
      "Applying strategy: link_iterable_by_fields\n",
      "Applying strategy: link_iterable_by_fields\n",
      "Applying strategy: link_iterable_by_fields\n",
      "5 datasets\n",
      "29 exchanges\n",
      "0 unlinked exchanges\n",
      "  \n"
     ]
    },
    {
     "data": {
      "text/plain": [
       "(5, 29, 0)"
      ]
     },
     "execution_count": 5,
     "metadata": {},
     "output_type": "execute_result"
    }
   ],
   "source": [
    "LCI_PATH = Path(r\"..\\data\\LCI_Digital-Content-Consumption.xlsx\")\n",
    "\n",
    "DS_ICT = bw.ExcelImporter(LCI_PATH)\n",
    "DS_ICT.apply_strategies()\n",
    "DS_ICT.match_database(ECOINVENT_DB, fields=('name', 'reference product', 'unit', 'location'))\n",
    "DS_ICT.match_database(\"biosphere3\", fields=('name', 'unit', 'categories'))\n",
    "DS_ICT.match_database(fields=('name', 'reference product', 'unit', 'location'))\n",
    "DS_ICT.statistics()"
   ]
  },
  {
   "cell_type": "markdown",
   "id": "8f36d7e7-fd72-481d-89b5-976304db1515",
   "metadata": {},
   "source": [
    "The *ExcelImporter* requires to define the *reference product* for exchanges. However, apparently the Ecoinvent database as imported in BW2 uses *product* instead of *reference product* for exchanges"
   ]
  },
  {
   "cell_type": "code",
   "execution_count": 6,
   "id": "259294dc-75a9-4414-9935-154ed5177195",
   "metadata": {},
   "outputs": [],
   "source": [
    "# Change reference product to product for exchanges\n",
    "DS_ICT = correct_reference_product_exchanges(DS_ICT)"
   ]
  },
  {
   "cell_type": "markdown",
   "id": "0d54dcc2-b8d4-4f19-b988-5bdd1e0a4eb2",
   "metadata": {},
   "source": [
    "Some inventories in the Excel file are provided as tables that can be imported as pandas dataframe. *create_inventories_from_df* function uses the pandas dataframes to create the inventories in BW2 format"
   ]
  },
  {
   "cell_type": "code",
   "execution_count": 7,
   "id": "1684cde4-d3dd-4747-96d0-98e327d1f385",
   "metadata": {},
   "outputs": [],
   "source": [
    "# Import inventories for digital contents\n",
    "LCI_DigitalContent = pd.read_excel(LCI_PATH, sheet_name='LCI_DigitalContent', skiprows=1).fillna(0)\n",
    "\n",
    "# Improt data traffic range for each digital content\n",
    "Data_Traffic = pd.read_excel(LCI_PATH, sheet_name='Data_Traffic', skiprows=1, index_col=0)\n",
    "\n",
    "# Create inventories from dataframe:\n",
    "DS_DigitalContent = create_inventories_from_df(LCI_DigitalContent, Data_Traffic)"
   ]
  },
  {
   "cell_type": "code",
   "execution_count": 8,
   "id": "96a77229-2edf-44c0-8202-8575076b75c9",
   "metadata": {},
   "outputs": [],
   "source": [
    "# Import inventories for users type\n",
    "LCI_Users = pd.read_excel(LCI_PATH, sheet_name='LCI_Users', skiprows=1).fillna(0)\n",
    "\n",
    "# Create inventories from dataframe\n",
    "DS_Users = create_inventories_from_df(LCI_Users, Data_Traffic)"
   ]
  },
  {
   "cell_type": "markdown",
   "id": "7fc77ec5-41a8-41fb-9537-0ab23494de40",
   "metadata": {},
   "source": [
    "Create regional datasets"
   ]
  },
  {
   "cell_type": "code",
   "execution_count": 9,
   "id": "fbef3573-5a83-44f9-a909-c9780b9ecf5d",
   "metadata": {
    "tags": []
   },
   "outputs": [],
   "source": [
    "# Database with only GLO inventories\n",
    "GLO_db = []\n",
    "GLO_db = DS_ICT.data + DS_DigitalContent + DS_Users\n",
    "\n",
    "# Datasets that will be regionalized / Some inventories remain global\n",
    "GLO_ds = ['market for data centers, internet access',\n",
    "          'core network, internet access, data centers node']\n",
    "ds_to_regionalize = [ds for ds in GLO_db if ds['name'] not in GLO_ds]\n",
    "\n",
    "# Creating datasets for all the locations with an electricity market in ecoinvent (187) \n",
    "# would require substantial computational efforts. Consequently, we selected a number of \n",
    "# locations based on the GHG emission intensity of their electricity mix\n",
    "new_locations = {# Regions\n",
    "                 'BR': 'Brazil', \n",
    "                 'CA': 'Canada',\n",
    "                 'CN': 'China',\n",
    "                 'IN': 'India',\n",
    "                 'RER': 'Europe',\n",
    "                 'US': 'United States',\n",
    "                 # Europe\n",
    "                 'NO': 'Norway',\n",
    "                 'CH': 'Switzerland',\n",
    "                 'FR': 'France',\n",
    "                 'DK': 'Denmark',\n",
    "                 'ES': 'Spain',\n",
    "                 'IT': 'Italy',\n",
    "                 'DE': 'Germany',\n",
    "                 'PL': 'Poland',\n",
    "                 'GB': 'United Kingdom',\n",
    "                 # Other countries\n",
    "                 'ZA': 'South Africa',\n",
    "                 'AU': 'Australia',\n",
    "                 'RU': 'Russia'\n",
    "                 }\n",
    "\n",
    "# Create datasets for the new locations\n",
    "DS_new_locs = create_regional_inventories(ds_to_regionalize, list(new_locations.keys()), ei_db)"
   ]
  },
  {
   "cell_type": "markdown",
   "id": "627115ff-bc27-4bf5-88af-6fc00a65e324",
   "metadata": {},
   "source": [
    "Link exchanges internally and to the ecoinvent and biosphere databases (i.e., add the 'input' field)"
   ]
  },
  {
   "cell_type": "code",
   "execution_count": 10,
   "id": "b71bf47e-9a71-453b-b876-2323ba366f96",
   "metadata": {},
   "outputs": [],
   "source": [
    "DigitalContentConsumption_db = link_exchanges(GLO_db + DS_new_locs, ei_db, biosphere_db)"
   ]
  },
  {
   "cell_type": "code",
   "execution_count": 11,
   "id": "abe5346a-24f6-4e4c-bc99-30842f4e0ca0",
   "metadata": {},
   "outputs": [
    {
     "data": {
      "text/plain": [
       "914"
      ]
     },
     "execution_count": 11,
     "metadata": {},
     "output_type": "execute_result"
    }
   ],
   "source": [
    "len(DigitalContentConsumption_db) # Number of datasets in the Digital Content Consumption database"
   ]
  },
  {
   "cell_type": "markdown",
   "id": "fbc94871-e2ad-4e99-b10d-7ff67c23c361",
   "metadata": {},
   "source": [
    "Write the database"
   ]
  },
  {
   "cell_type": "code",
   "execution_count": 12,
   "id": "1dd894fc-f3fd-491c-ab93-1ae3801db45a",
   "metadata": {},
   "outputs": [
    {
     "name": "stdout",
     "output_type": "stream",
     "text": [
      "914 datasets\n",
      "7945 exchanges\n",
      "0 unlinked exchanges\n",
      "  \n"
     ]
    },
    {
     "name": "stderr",
     "output_type": "stream",
     "text": [
      "Writing activities to SQLite3 database:\n",
      "0% [##############################] 100% | ETA: 00:00:00\n",
      "Total time elapsed: 00:00:00\n"
     ]
    },
    {
     "name": "stdout",
     "output_type": "stream",
     "text": [
      "Title: Writing activities to SQLite3 database:\n",
      "  Started: 12/07/2022 16:01:57\n",
      "  Finished: 12/07/2022 16:01:58\n",
      "  Total time elapsed: 00:00:00\n",
      "  CPU %: 86.40\n",
      "  Memory %: 3.05\n",
      "Created database: Digital Content Consumption\n"
     ]
    }
   ],
   "source": [
    "my_db_name = 'Digital Content Consumption'\n",
    "if my_db_name in bw.databases:\n",
    "    del bw.databases[my_db_name]\n",
    "wurst.write_brightway2_database(DigitalContentConsumption_db, my_db_name)"
   ]
  },
  {
   "cell_type": "markdown",
   "id": "0796e16c-1b7f-42b8-8e8d-a1406d522bf3",
   "metadata": {},
   "source": [
    "# Create prospective databases"
   ]
  },
  {
   "cell_type": "markdown",
   "id": "ed6c8297-51b0-4d8d-9f70-b93ef4c415d3",
   "metadata": {},
   "source": [
    "Import prospective ecoinvent databases into a dictionary"
   ]
  },
  {
   "cell_type": "code",
   "execution_count": 19,
   "id": "ab01d5fc-1a72-4429-b248-fa4213240a14",
   "metadata": {},
   "outputs": [],
   "source": [
    "premise_db_2030 = [ds.as_dict() for ds in bw.Database('ecoinvent 3.8 cutoff, IMAGE SSP2-RCP19, 2030 (premise v1.3.9)')]\n",
    "premise_db_2040 = [ds.as_dict() for ds in bw.Database('ecoinvent 3.8 cutoff, IMAGE SSP2-RCP19, 2040 (premise v1.3.9)')]\n",
    "premise_db_2050 = [ds.as_dict() for ds in bw.Database('ecoinvent 3.8 cutoff, IMAGE SSP2-RCP19, 2050 (premise v1.3.9)')]"
   ]
  },
  {
   "cell_type": "markdown",
   "id": "24c6cae9-1fe2-42d6-a5ca-7cc3a6f71a28",
   "metadata": {},
   "source": [
    "Link exchanges to the new database (only for GLO datasets)"
   ]
  },
  {
   "cell_type": "code",
   "execution_count": 21,
   "id": "9aedeeaf-3bc6-4634-adc7-3952896a012b",
   "metadata": {},
   "outputs": [],
   "source": [
    "premise_db_2030_linked = link_exchanges(GLO_db, premise_db_2030, biosphere_db)\n",
    "premise_db_2040_linked = link_exchanges(GLO_db, premise_db_2040, biosphere_db)\n",
    "premise_db_2050_linked = link_exchanges(GLO_db, premise_db_2050, biosphere_db)"
   ]
  },
  {
   "cell_type": "markdown",
   "id": "13d1ed23-3be1-4f42-89da-5d6ac9c04d27",
   "metadata": {},
   "source": [
    "Write prospective databases"
   ]
  },
  {
   "cell_type": "code",
   "execution_count": 22,
   "id": "cce2b397-d680-47d4-a3d9-3eb756497995",
   "metadata": {},
   "outputs": [
    {
     "name": "stdout",
     "output_type": "stream",
     "text": [
      "50 datasets\n",
      "439 exchanges\n",
      "0 unlinked exchanges\n",
      "  \n"
     ]
    },
    {
     "name": "stderr",
     "output_type": "stream",
     "text": [
      "Writing activities to SQLite3 database:\n",
      "0% [##############################] 100% | ETA: 00:00:00\n",
      "Total time elapsed: 00:00:00\n"
     ]
    },
    {
     "name": "stdout",
     "output_type": "stream",
     "text": [
      "Title: Writing activities to SQLite3 database:\n",
      "  Started: 11/22/2022 16:24:11\n",
      "  Finished: 11/22/2022 16:24:11\n",
      "  Total time elapsed: 00:00:00\n",
      "  CPU %: 78.10\n",
      "  Memory %: 31.03\n",
      "Created database: Digital Content Consumption, IMAGE SSP2-RCP19, 2030 (premise v1.3.9)\n",
      "50 datasets\n",
      "439 exchanges\n",
      "0 unlinked exchanges\n",
      "  \n"
     ]
    },
    {
     "name": "stderr",
     "output_type": "stream",
     "text": [
      "Writing activities to SQLite3 database:\n",
      "0% [##############################] 100% | ETA: 00:00:00\n",
      "Total time elapsed: 00:00:00\n"
     ]
    },
    {
     "name": "stdout",
     "output_type": "stream",
     "text": [
      "Title: Writing activities to SQLite3 database:\n",
      "  Started: 11/22/2022 16:24:13\n",
      "  Finished: 11/22/2022 16:24:13\n",
      "  Total time elapsed: 00:00:00\n",
      "  CPU %: 40.10\n",
      "  Memory %: 31.03\n",
      "Created database: Digital Content Consumption, IMAGE SSP2-RCP19, 2040 (premise v1.3.9)\n",
      "50 datasets\n",
      "439 exchanges\n",
      "0 unlinked exchanges\n",
      "  \n"
     ]
    },
    {
     "name": "stderr",
     "output_type": "stream",
     "text": [
      "Writing activities to SQLite3 database:\n",
      "0% [##############################] 100% | ETA: 00:00:00\n",
      "Total time elapsed: 00:00:00\n"
     ]
    },
    {
     "name": "stdout",
     "output_type": "stream",
     "text": [
      "Title: Writing activities to SQLite3 database:\n",
      "  Started: 11/22/2022 16:24:14\n",
      "  Finished: 11/22/2022 16:24:14\n",
      "  Total time elapsed: 00:00:00\n",
      "  CPU %: 24.80\n",
      "  Memory %: 31.03\n",
      "Created database: Digital Content Consumption, IMAGE SSP2-RCP19, 2050 (premise v1.3.9)\n"
     ]
    }
   ],
   "source": [
    "my_dbs_prospective = {'Digital Content Consumption, IMAGE SSP2-RCP19, 2030 (premise v1.3.9)': premise_db_2030_linked,\n",
    "                      'Digital Content Consumption, IMAGE SSP2-RCP19, 2040 (premise v1.3.9)': premise_db_2040_linked,\n",
    "                      'Digital Content Consumption, IMAGE SSP2-RCP19, 2050 (premise v1.3.9)': premise_db_2050_linked\n",
    "                     }\n",
    "\n",
    "for db in my_dbs_prospective:\n",
    "    if db in bw.databases:\n",
    "        del bw.databases[db]\n",
    "    wurst.write_brightway2_database(my_dbs_prospective[db], db)"
   ]
  }
 ],
 "metadata": {
  "kernelspec": {
   "display_name": "Python 3.10.2 ('iri')",
   "language": "python",
   "name": "python3"
  },
  "language_info": {
   "codemirror_mode": {
    "name": "ipython",
    "version": 3
   },
   "file_extension": ".py",
   "mimetype": "text/x-python",
   "name": "python",
   "nbconvert_exporter": "python",
   "pygments_lexer": "ipython3",
   "version": "3.10.2 | packaged by conda-forge | (main, Feb  1 2022, 19:26:10) [MSC v.1929 64 bit (AMD64)]"
  },
  "vscode": {
   "interpreter": {
    "hash": "394e99dae1b9983f376945e80450b385abffeb733a324985773e8d0fe4d49f32"
   }
  }
 },
 "nbformat": 4,
 "nbformat_minor": 5
}
