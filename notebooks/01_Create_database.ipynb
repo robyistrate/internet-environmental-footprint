{
 "cells": [
  {
   "cell_type": "code",
   "execution_count": 1,
   "id": "d3630862-7869-4189-90d2-617a590cb560",
   "metadata": {},
   "outputs": [],
   "source": [
    "import pandas as pd\n",
    "import numpy as np\n",
    "import brightway2 as bw\n",
    "import wurst\n",
    "import copy"
   ]
  },
  {
   "cell_type": "markdown",
   "id": "50c127a2-b667-413a-9ff5-12e490bf6fe7",
   "metadata": {},
   "source": [
    "Set BW2 project"
   ]
  },
  {
   "cell_type": "code",
   "execution_count": 2,
   "id": "48a4458c-5f8b-48ca-a14d-d7a9fdf3329c",
   "metadata": {},
   "outputs": [
    {
     "name": "stdout",
     "output_type": "stream",
     "text": [
      "iri\n",
      "C:\\Users\\iistrate\\AppData\\Local\\pylca\\Brightway3\\iri.5753d2a2da40d04ad7f3cc7a024b6e90\n",
      "Databases dictionary with 16 object(s):\n",
      "\tA_technosphere_flows\n",
      "\tBiogas to chemicals, IMAGE SSP2-Base, 2020\n",
      "\tBiogas-to-chemicals, BAU\n",
      "\tInternet Environmental Footprint\n",
      "\tInternet Environmental Footprint, IMAGE SSP2-RCP19, 2030 (premise v1.2.6)\n",
      "\tInternet Environmental Footprint, IMAGE SSP2-RCP19, 2040 (premise v1.2.6)\n",
      "\tInternet Environmental Footprint, IMAGE SSP2-RCP19, 2050 (premise v1.2.6)\n",
      "\tbiosphere3\n",
      "\tecoinvent 3.1 cutoff\n",
      "\tecoinvent 3.5 cutoff\n",
      "\tecoinvent 3.8 cutoff\n",
      "\tecoinvent 3.8 cutoff, IMAGE SSP2-RCP19, 2030 (premise v1.2.6)\n",
      "\tecoinvent 3.8 cutoff, IMAGE SSP2-RCP19, 2040 (premise v1.2.6)\n",
      "\tecoinvent 3.8 cutoff, IMAGE SSP2-RCP19, 2050 (premise v1.2.6)\n",
      "\tecoinvent 3.8 cutoff, with premise inventories (v1.2.6)\n",
      "\ttest\n"
     ]
    }
   ],
   "source": [
    "PROJECT_NAME = 'iri'\n",
    "bw.projects.set_current(PROJECT_NAME)\n",
    "print(bw.projects.current) # Current project\n",
    "print(bw.projects.dir) # Current project directory\n",
    "print(bw.databases) # List of databases in the project"
   ]
  },
  {
   "cell_type": "markdown",
   "id": "beec0315-7b56-4511-a346-d85acd6da747",
   "metadata": {},
   "source": [
    "Run basic functions to create new database"
   ]
  },
  {
   "cell_type": "code",
   "execution_count": 36,
   "id": "7ca002d2-0dc8-4f61-af25-63520fd6b68a",
   "metadata": {},
   "outputs": [],
   "source": [
    "%run 00_Functions_to_create_database.ipynb"
   ]
  },
  {
   "cell_type": "markdown",
   "id": "b53f93a9-4991-4b84-b26a-411b9db72db8",
   "metadata": {},
   "source": [
    "Set ecoinvent and biosphere databases and import ecoinvent db into wurst format"
   ]
  },
  {
   "cell_type": "code",
   "execution_count": null,
   "id": "2c745169-28dd-4857-8c1c-a9a694e357e7",
   "metadata": {},
   "outputs": [],
   "source": [
    "biosphere_db = [ef.as_dict() for ef in bw.Database('biosphere3')]"
   ]
  },
  {
   "cell_type": "code",
   "execution_count": 57,
   "id": "a97b933a-f260-47f6-8a35-1fc1aea5d68a",
   "metadata": {},
   "outputs": [
    {
     "name": "stdout",
     "output_type": "stream",
     "text": [
      "Getting activity data\n"
     ]
    },
    {
     "name": "stderr",
     "output_type": "stream",
     "text": [
      "100%|█████████████████████████████████████████████████████████████████████████| 53223/53223 [00:01<00:00, 48722.02it/s]\n"
     ]
    },
    {
     "name": "stdout",
     "output_type": "stream",
     "text": [
      "Adding exchange data to activities\n"
     ]
    },
    {
     "name": "stderr",
     "output_type": "stream",
     "text": [
      "100%|█████████████████████████████████████████████████████████████████████| 2614582/2614582 [02:46<00:00, 15704.47it/s]\n"
     ]
    },
    {
     "name": "stdout",
     "output_type": "stream",
     "text": [
      "Filling out exchange data\n"
     ]
    },
    {
     "name": "stderr",
     "output_type": "stream",
     "text": [
      "100%|██████████████████████████████████████████████████████████████████████████| 53223/53223 [00:10<00:00, 4956.67it/s]\n"
     ]
    }
   ],
   "source": [
    "#ei_db = 'ecoinvent 3.8 cutoff'\n",
    "#ei_db = 'ecoinvent 3.8 cutoff, IMAGE SSP2-RCP19, 2030 (premise v1.2.6)'\n",
    "#ei_db = 'ecoinvent 3.8 cutoff, IMAGE SSP2-RCP19, 2040 (premise v1.2.6)'\n",
    "ei_db = 'ecoinvent 3.8 cutoff, IMAGE SSP2-RCP19, 2050 (premise v1.2.6)'\n",
    "\n",
    "ei_db_wurst = wurst.extract_brightway2_databases([ei_db])"
   ]
  },
  {
   "cell_type": "markdown",
   "id": "fda4bf88-855a-4ce7-a1a9-73278456b12c",
   "metadata": {},
   "source": [
    "# Import inventories for ICT sub-systems"
   ]
  },
  {
   "cell_type": "code",
   "execution_count": 58,
   "id": "a5ba788a-bf98-4575-b5bc-65943b49dbf5",
   "metadata": {},
   "outputs": [
    {
     "name": "stdout",
     "output_type": "stream",
     "text": [
      "Extracted 1 worksheets in 0.15 seconds\n",
      "Applying strategy: csv_restore_tuples\n",
      "Applying strategy: csv_restore_booleans\n",
      "Applying strategy: csv_numerize\n",
      "Applying strategy: csv_drop_unknown\n",
      "Applying strategy: csv_add_missing_exchanges_section\n",
      "Applying strategy: normalize_units\n",
      "Applying strategy: normalize_biosphere_categories\n",
      "Applying strategy: normalize_biosphere_names\n",
      "Applying strategy: strip_biosphere_exc_locations\n",
      "Applying strategy: set_code_by_activity_hash\n",
      "Applying strategy: link_iterable_by_fields\n",
      "Applying strategy: assign_only_product_as_production\n",
      "Applying strategy: link_technosphere_by_activity_hash\n",
      "Applying strategy: drop_falsey_uncertainty_fields_but_keep_zeros\n",
      "Applying strategy: convert_uncertainty_types_to_integers\n",
      "Applying strategy: convert_activity_parameters_to_list\n",
      "Applied 16 strategies in 0.22 seconds\n",
      "Applying strategy: link_iterable_by_fields\n",
      "Applying strategy: link_iterable_by_fields\n",
      "Applying strategy: link_iterable_by_fields\n",
      "5 datasets\n",
      "29 exchanges\n",
      "0 unlinked exchanges\n",
      "  \n"
     ]
    },
    {
     "data": {
      "text/plain": [
       "(5, 29, 0)"
      ]
     },
     "execution_count": 58,
     "metadata": {},
     "output_type": "execute_result"
    }
   ],
   "source": [
    "LCI_file = \"LCI_DigitalContentConsumption.xlsx\"\n",
    "\n",
    "DS_ICT_raw = bw.ExcelImporter(LCI_file)\n",
    "DS_ICT_raw.apply_strategies()\n",
    "DS_ICT_raw.match_database(ei_db, fields=('name', 'reference product', 'unit', 'location'))\n",
    "DS_ICT_raw.match_database(\"biosphere3\", fields=('name', 'unit', 'categories'))\n",
    "DS_ICT_raw.match_database(fields=('name', 'reference product', 'unit', 'location'))\n",
    "DS_ICT_raw.statistics()"
   ]
  },
  {
   "cell_type": "code",
   "execution_count": 59,
   "id": "daa908cb-ea4f-425b-a8ae-cba9f60a7881",
   "metadata": {},
   "outputs": [],
   "source": [
    "# Change reference product to product\n",
    "DS_ICT = copy.deepcopy(DS_ICT_raw.data)\n",
    "DS_ICT = correct_reference_product(DS_ICT)"
   ]
  },
  {
   "cell_type": "markdown",
   "id": "64c0afd9-f8b7-439b-a833-eaec0ce40d65",
   "metadata": {},
   "source": [
    "# Import inventories for digital content"
   ]
  },
  {
   "cell_type": "code",
   "execution_count": 60,
   "id": "88241a57-7857-4bb8-82df-f397525eb628",
   "metadata": {
    "tags": []
   },
   "outputs": [],
   "source": [
    "COL_START = 7\n",
    "\n",
    "LCI_DigitalContent = pd.read_excel(LCI_file, sheet_name='LCI_DigitalContent', skiprows=1).fillna(0)\n",
    "NO_COLS = 7\n",
    "Data_Traffic = pd.read_excel(LCI_file, sheet_name='Data_Traffic', skiprows=1, index_col=0)\n",
    "\n",
    "DS_DigitalContent = create_datasets_from_df(LCI_DigitalContent, Data_Traffic, NO_COLS, COL_START, DS_ICT + ei_db_wurst, biosphere_db)"
   ]
  },
  {
   "cell_type": "markdown",
   "id": "685923eb-4eba-4ff9-9ecf-2bc2820e9d2c",
   "metadata": {},
   "source": [
    "# Import inventories for users"
   ]
  },
  {
   "cell_type": "code",
   "execution_count": 61,
   "id": "887b0413-baef-4daa-9c95-6d81fd114e3e",
   "metadata": {
    "tags": []
   },
   "outputs": [],
   "source": [
    "LCI_Users = pd.read_excel(LCI_file, sheet_name='LCI_Users', skiprows=1).fillna(0)\n",
    "NO_COLS = 3\n",
    "\n",
    "DS_Users = create_datasets_from_df(LCI_Users, Data_Traffic, NO_COLS, COL_START, DS_ICT + DS_DigitalContent + ei_db_wurst, biosphere_db)"
   ]
  },
  {
   "cell_type": "code",
   "execution_count": 62,
   "id": "32146fe4-4e7e-4c34-9d21-29e1212e750a",
   "metadata": {},
   "outputs": [],
   "source": [
    "DigitalContentConsumption_db = []\n",
    "DigitalContentConsumption_db = DS_ICT + DS_DigitalContent + DS_Users"
   ]
  },
  {
   "cell_type": "markdown",
   "id": "5c5f3686-9404-4c19-8a79-9e4bbf346350",
   "metadata": {},
   "source": [
    "# Create regional datasets"
   ]
  },
  {
   "cell_type": "code",
   "execution_count": 41,
   "id": "b4894486-bb8a-48a9-b83d-c019458fe621",
   "metadata": {
    "tags": []
   },
   "outputs": [],
   "source": [
    "GLO_ds = ['market for data centers, internet access',\n",
    "          'core network, internet access, data centers node']\n",
    "ds_to_regionalize = [ds for ds in DigitalContentConsumption_db if ds['name'] not in GLO_ds]\n",
    "\n",
    "# Creating datasets for all the locations with an electricity market in ecoinvent (187) \n",
    "# would require substantial computational efforts. Consequently, we selected a number of \n",
    "# locations based on electricity carbon footprint\n",
    "new_locations = {# Regions\n",
    "                 'BR': 'Brazil', \n",
    "                 'CA': 'Canada',\n",
    "                 'CN': 'China',\n",
    "                 'IN': 'India',\n",
    "                 'RER': 'Europe',\n",
    "                 'US': 'United States',\n",
    "                 # Europe\n",
    "                 'NO': 'Norway',\n",
    "                 'CH': 'Switzerland',\n",
    "                 'FR': 'France',\n",
    "                 'DK': 'Denmark',\n",
    "                 'ES': 'Spain',\n",
    "                 'IT': 'Italy',\n",
    "                 'DE': 'Germany',\n",
    "                 'PL': 'Poland',\n",
    "                 'GB': 'United Kingdom',\n",
    "                 # Other countries\n",
    "                 'ZA': 'South Africa',\n",
    "                 'AU': 'Australia',\n",
    "                 'RU': 'Russia'\n",
    "                 }\n",
    "\n",
    "# Create datasets to the new locations\n",
    "DS_new_locs = create_datasets_for_locations(ds_to_regionalize, new_locations, DigitalContentConsumption_db + ei_db_wurst, biosphere_db)"
   ]
  },
  {
   "cell_type": "markdown",
   "id": "48d06828-777b-4b89-bba6-6d8d0673c403",
   "metadata": {},
   "source": [
    "# Link database and write"
   ]
  },
  {
   "cell_type": "code",
   "execution_count": 42,
   "id": "73902f71-0d52-429d-b6c3-7bd868df0872",
   "metadata": {},
   "outputs": [
    {
     "name": "stdout",
     "output_type": "stream",
     "text": [
      "914 datasets\n",
      "7945 exchanges\n",
      "0 unlinked exchanges\n",
      "  \n"
     ]
    },
    {
     "name": "stderr",
     "output_type": "stream",
     "text": [
      "Writing activities to SQLite3 database:\n",
      "0% [##############################] 100% | ETA: 00:00:00\n",
      "Total time elapsed: 00:00:00\n"
     ]
    },
    {
     "name": "stdout",
     "output_type": "stream",
     "text": [
      "Title: Writing activities to SQLite3 database:\n",
      "  Started: 09/28/2022 12:06:43\n",
      "  Finished: 09/28/2022 12:06:43\n",
      "  Total time elapsed: 00:00:00\n",
      "  CPU %: 82.50\n",
      "  Memory %: 34.41\n",
      "Created database: Digital Content Consumption\n"
     ]
    }
   ],
   "source": [
    "new_db_name = 'Digital Content Consumption'\n",
    "if new_db_name in bw.databases:\n",
    "    del bw.databases[new_db_name]\n",
    "wurst.write_brightway2_database(DigitalContentConsumption_db + DS_new_locs, new_db_name)"
   ]
  },
  {
   "cell_type": "code",
   "execution_count": 63,
   "id": "21b17c9f-a8ce-424f-81c7-2a2ba310ea6e",
   "metadata": {},
   "outputs": [
    {
     "name": "stdout",
     "output_type": "stream",
     "text": [
      "50 datasets\n",
      "439 exchanges\n",
      "0 unlinked exchanges\n",
      "  \n"
     ]
    },
    {
     "name": "stderr",
     "output_type": "stream",
     "text": [
      "Writing activities to SQLite3 database:\n",
      "0% [##############################] 100% | ETA: 00:00:00\n",
      "Total time elapsed: 00:00:00\n"
     ]
    },
    {
     "name": "stdout",
     "output_type": "stream",
     "text": [
      "Title: Writing activities to SQLite3 database:\n",
      "  Started: 09/28/2022 14:25:21\n",
      "  Finished: 09/28/2022 14:25:21\n",
      "  Total time elapsed: 00:00:00\n",
      "  CPU %: 71.70\n",
      "  Memory %: 59.59\n",
      "Created database: Digital Content Consumption, IMAGE SSP2-RCP19, 2050 (premise v1.2.6)\n"
     ]
    }
   ],
   "source": [
    "# Prospective database only for GLO location\n",
    "#new_db_name = 'Digital Content Consumption, IMAGE SSP2-RCP19, 2030 (premise v1.2.6)'\n",
    "#new_db_name = 'Digital Content Consumption, IMAGE SSP2-RCP19, 2040 (premise v1.2.6)'\n",
    "new_db_name = 'Digital Content Consumption, IMAGE SSP2-RCP19, 2050 (premise v1.2.6)'\n",
    "if new_db_name in bw.databases:\n",
    "    del bw.databases[new_db_name]\n",
    "wurst.write_brightway2_database(DigitalContentConsumption_db, new_db_name)"
   ]
  },
  {
   "cell_type": "code",
   "execution_count": 14,
   "id": "67d65824-df6c-442a-82b6-2f938e0bcc49",
   "metadata": {},
   "outputs": [],
   "source": [
    "for a in bw.Database(\"DEF_db_name\"):\n",
    "    assert len(a.production()) == 1"
   ]
  },
  {
   "cell_type": "code",
   "execution_count": 22,
   "id": "245473fe-52e0-48b0-82e6-b66f57092256",
   "metadata": {},
   "outputs": [],
   "source": [
    "for ds in DEF_db_linked:\n",
    "    for exc in ds['exchanges']:\n",
    "        if exc['type'] == 'production':\n",
    "            if ds['reference product'] != exc['product']:\n",
    "                print('yes')"
   ]
  },
  {
   "cell_type": "code",
   "execution_count": null,
   "id": "408eca79-3288-41bd-86ed-998c969e3f64",
   "metadata": {},
   "outputs": [],
   "source": []
  }
 ],
 "metadata": {
  "kernelspec": {
   "display_name": "Python 3 (ipykernel)",
   "language": "python",
   "name": "python3"
  },
  "language_info": {
   "codemirror_mode": {
    "name": "ipython",
    "version": 3
   },
   "file_extension": ".py",
   "mimetype": "text/x-python",
   "name": "python",
   "nbconvert_exporter": "python",
   "pygments_lexer": "ipython3",
   "version": "3.10.2"
  }
 },
 "nbformat": 4,
 "nbformat_minor": 5
}
