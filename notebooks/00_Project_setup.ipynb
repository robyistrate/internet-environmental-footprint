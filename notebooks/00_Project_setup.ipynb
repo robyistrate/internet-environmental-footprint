{
 "cells": [
  {
   "attachments": {},
   "cell_type": "markdown",
   "metadata": {},
   "source": [
    "# Environmental footprint of digital content consumption - Project setup"
   ]
  },
  {
   "cell_type": "code",
   "execution_count": 1,
   "metadata": {},
   "outputs": [],
   "source": [
    "import brightway2 as bw\n",
    "from bw2io import ExcelLCIAImporter\n",
    "import pandas as pd\n",
    "from premise import *\n",
    "from pathlib import Path"
   ]
  },
  {
   "cell_type": "markdown",
   "metadata": {},
   "source": [
    "## Create a new project"
   ]
  },
  {
   "cell_type": "code",
   "execution_count": 2,
   "metadata": {},
   "outputs": [],
   "source": [
    "PROJECT_NAME = 'iri' # <- insert your project name here\n",
    "bw.projects.set_current(PROJECT_NAME)"
   ]
  },
  {
   "cell_type": "markdown",
   "metadata": {},
   "source": [
    "## Install databases"
   ]
  },
  {
   "cell_type": "markdown",
   "metadata": {},
   "source": [
    "**Biosphere database**"
   ]
  },
  {
   "cell_type": "code",
   "execution_count": 3,
   "metadata": {},
   "outputs": [
    {
     "name": "stdout",
     "output_type": "stream",
     "text": [
      "Biosphere database already installed\n"
     ]
    }
   ],
   "source": [
    "if 'biosphere3' in bw.databases:\n",
    "    print('Biosphere database already installed')\n",
    "else:\n",
    "    bw.bw2setup()"
   ]
  },
  {
   "attachments": {},
   "cell_type": "markdown",
   "metadata": {},
   "source": [
    "**Ecoinvent database**\n",
    "\n",
    "Note that the results presented in the scientific article were produced with ecoinvent v3.8 cut-off system model"
   ]
  },
  {
   "cell_type": "code",
   "execution_count": 4,
   "metadata": {},
   "outputs": [
    {
     "name": "stdout",
     "output_type": "stream",
     "text": [
      "Ecoinvent database already installed\n"
     ]
    }
   ],
   "source": [
    "ECOINVENT_DIR = r'.../ei38/datasets' # <- insert the path to ecoinvent 3.8 here\n",
    "ECOINVENT_NAME = 'ecoinvent 3.8 cutoff'\n",
    "\n",
    "if 'ecoinvent 3.8 cutoff' in bw.databases:\n",
    "    print('Ecoinvent database already installed')\n",
    "else:\n",
    "    ei38 = bw.SingleOutputEcospold2Importer(ECOINVENT_DIR, ECOINVENT_NAME)\n",
    "    ei38.apply_strategies()\n",
    "    ei38.statistics()\n",
    "    ei38.write_database()"
   ]
  },
  {
   "attachments": {},
   "cell_type": "markdown",
   "metadata": {},
   "source": [
    "**Create prospective databases with premise**\n",
    "\n",
    "The use of default IAM scenarios included in *premise* requires a decryption key to be requested from the library maintainers. For further details on *premise* see: https://github.com/polca/premise"
   ]
  },
  {
   "cell_type": "code",
   "execution_count": null,
   "metadata": {},
   "outputs": [],
   "source": [
    "DECRYPTION_KEY = 'XXXXXXXXXXXXXXXXX' # <- insert your decryption key here"
   ]
  },
  {
   "cell_type": "code",
   "execution_count": null,
   "metadata": {},
   "outputs": [],
   "source": [
    "ei_future = NewDatabase(\n",
    "                scenarios=[{\"model\": \"image\", \"pathway\":\"SSP2-RCP19\", \"year\":2030},\n",
    "                           {\"model\": \"image\", \"pathway\":\"SSP2-RCP19\", \"year\":2040},\n",
    "                           {\"model\": \"image\", \"pathway\":\"SSP2-RCP19\", \"year\":2050},\n",
    "                          ],\n",
    "                source_db=\"ecoinvent 3.8 cutoff\",\n",
    "                source_version=\"3.8\",\n",
    "                key=DECRYPTION_KEY)"
   ]
  },
  {
   "cell_type": "code",
   "execution_count": null,
   "metadata": {},
   "outputs": [],
   "source": [
    "ei_future.update_all()"
   ]
  },
  {
   "cell_type": "code",
   "execution_count": null,
   "metadata": {},
   "outputs": [],
   "source": [
    "ei_future.write_db_to_brightway(name=[\"ecoinvent 3.8 cutoff, IMAGE SSP2-RCP19, 2030\",\n",
    "                                      \"ecoinvent 3.8 cutoff, IMAGE SSP2-RCP19, 2040\",\n",
    "                                      \"ecoinvent 3.8 cutoff, IMAGE SSP2-RCP19, 2050\",\n",
    "                                     ])"
   ]
  },
  {
   "attachments": {},
   "cell_type": "markdown",
   "metadata": {},
   "source": [
    "## Create/update LCIA methods\n",
    "\n",
    "Here we implement some new methods that are not available in the biosphere database compatible with Ecoinvent 3.8, including:\n",
    "\n",
    "- IPCC 2021 global warming potentials (GWPs) adapted to premise\n",
    "- EF 3.1 for ecotoxicity and human toxicity\n",
    "- LANCA v2.5 for land use soil erosion\n",
    "\n",
    "The following data files are required (to be obtained from the corresponding sources and placed in the data container):\n",
    "\n",
    "- Methods implementation in Ecoinvent 3.9: \"LCIA Implementation 3.9.1.xlsx\" (available at https://ecoinvent.org/)\n",
    "- Because the name of some elementary flows change from Ecoinvent 3.8 to 3.9.1, the change report file is also required: \"Change Report Annex v3.8 - v3.9.xlsx\" (available at https://ecoinvent.org/)\n",
    "- 100-year GWPs adapted to premise: \"lcia_gwp_100a_w_bio.xlsx\" (available at https://github.com/polca/premise_gwp)\n",
    "- Caracterization factors from LANCA v2.5 (data file provided in this repository)"
   ]
  },
  {
   "cell_type": "code",
   "execution_count": 3,
   "metadata": {},
   "outputs": [],
   "source": [
    "# Import LCIA implementation data\n",
    "METHODS_DIR = Path(r\"..\\data\\LCIA Implementation 3.9.1.xlsx\")\n",
    "CHANGE_REPORT_DIR = Path(r'..\\data\\Change Report Annex v3.8 - v3.9.xlsx')\n",
    "PREMISE_GWP_DIR = Path(r'..\\data\\lcia_gwp_100a_w_bio.xlsx')\n",
    "\n",
    "lcia_ei_391 = pd.read_excel(METHODS_DIR, sheet_name='CFs')\n",
    "lcia_change_ei39vs38 = pd.read_excel(CHANGE_REPORT_DIR, sheet_name='LCIA Changes')\n",
    "premise_gwp = pd.read_excel(PREMISE_GWP_DIR)"
   ]
  },
  {
   "cell_type": "code",
   "execution_count": 4,
   "metadata": {},
   "outputs": [],
   "source": [
    "# Map biosphere flows\n",
    "map_bio_keys = {}\n",
    "for ef in bw.Database('biosphere3'):\n",
    "    map_bio_keys[(ef['name'], ef['categories'])] = ef.key"
   ]
  },
  {
   "attachments": {},
   "cell_type": "markdown",
   "metadata": {},
   "source": [
    "**Climate change: 100-year GWPs from IPCC 2021 adapted to premise**\n",
    "\n",
    "Since prospective databases generated with *premise* may involve inventories containing\n",
    "net negative emission technologies (NETs), it is highly recommended to account for\n",
    "biogenic CO2 flows as well as CO2 captured from the atmosphere. For further details see: https://github.com/polca/premise_gwp\n",
    "\n",
    "Premise GWPs are based on IPCC2013. Here we update the method with GWPs from IPCC2021"
   ]
  },
  {
   "cell_type": "code",
   "execution_count": 18,
   "metadata": {},
   "outputs": [],
   "source": [
    "# Get 100-year GWPs from IPCC 2021 as implemented in ecoinvent 3.9.1\n",
    "ipcc2021_gwp_100a = lcia_ei_391[(lcia_ei_391['Method'] == 'IPCC 2021') & \n",
    "                                (lcia_ei_391['Category'] == 'climate change: including SLCFs') & \n",
    "                                (lcia_ei_391['Indicator'] == 'global warming potential (GWP100)')]\n",
    "\n",
    "# Adapt GWPs from IPCC 2021 to premise GWPs:\n",
    "premise_ipcc2021_gwp_100a = dict()\n",
    "for index, row in premise_gwp.iterrows():\n",
    "    premise_ipcc2021_gwp_100a.update({(row['name'], row['categories']): row['amount']})\n",
    "\n",
    "    # Update existing and add new characterization factors based on IPCC2021\n",
    "    for index, row in ipcc2021_gwp_100a.iterrows():\n",
    "        ef_info = (row['Name'], row['Compartment'] + '::' + row['Subcompartment'])\n",
    "        # Update existing elementary flows:\n",
    "        if ef_info in premise_ipcc2021_gwp_100a:\n",
    "            premise_ipcc2021_gwp_100a[ef_info] = row['CF']\n",
    "        else:\n",
    "           premise_ipcc2021_gwp_100a.update({ef_info: row['CF']})\n",
    "\n",
    "    # Export the modified IPCC method:\n",
    "    premise_ipcc2021_df = pd.DataFrame(premise_ipcc2021_gwp_100a, index=['amount']).T.reset_index()\n",
    "    premise_ipcc2021_df.columns = ['name', 'categories', 'amount']\n",
    "    premise_ipcc2021_df.to_excel(Path(r\"..\\data\\LCIA_gwp_100a_ipcc2021_premise.xlsx\"), index=False)"
   ]
  },
  {
   "cell_type": "code",
   "execution_count": 19,
   "metadata": {},
   "outputs": [
    {
     "name": "stdout",
     "output_type": "stream",
     "text": [
      "Applying strategy: csv_restore_tuples\n",
      "Applying strategy: csv_numerize\n",
      "Applying strategy: csv_drop_unknown\n",
      "Applying strategy: set_biosphere_type\n",
      "Applying strategy: drop_unspecified_subcategories\n",
      "Applying strategy: link_iterable_by_fields\n",
      "Applying strategy: drop_falsey_uncertainty_fields_but_keep_zeros\n",
      "Applying strategy: convert_uncertainty_types_to_integers\n",
      "Applied 8 strategies in 0.12 seconds\n",
      "Applying strategy: drop_unlinked_cfs\n",
      "Applied 1 strategies in 0.00 seconds\n"
     ]
    }
   ],
   "source": [
    "# Write method:\n",
    "metadata =(\n",
    "           (\"IPCC 2021\", \"climate change: including SLCFs\", \"GWP 100a, incl. H and bio CO2\"),\n",
    "            \"kg CO2-Eq\",\n",
    "            \"IPCC 20121, with CFs for hydrogen and biogenic CO2 flows\",\n",
    "            Path(r\"..\\data\\LCIA_gwp_100a_ipcc2021_premise.xlsx\"),\n",
    "          )\n",
    "\n",
    "ipcc2021_method = ExcelLCIAImporter(filepath=metadata[-1], name=metadata[0], unit=metadata[1], description=metadata[2])\n",
    "ipcc2021_method.apply_strategies()\n",
    "ipcc2021_method.drop_unlinked()\n",
    "assert len(list(ipcc2021_method.unlinked)) == 0\n",
    "ipcc2021_method.write_methods(overwrite=True, verbose=True)"
   ]
  },
  {
   "attachments": {},
   "cell_type": "markdown",
   "metadata": {},
   "source": [
    "**Life cycle CO2 emissions**\n",
    "\n",
    "The carrying capacity for climate change is defined based on the remaining carbon budget. This requires quantifying the life cycle CO2 emissions. We create a new method to quantify this emissions"
   ]
  },
  {
   "cell_type": "code",
   "execution_count": 20,
   "metadata": {},
   "outputs": [],
   "source": [
    "# Use the new IPCC2021 method to retrieve CO2 flows and characterization factors\n",
    "ipcc_2021_method = bw.Method(('IPCC 2021', 'climate change: including SLCFs', 'GWP 100a, incl. H and bio CO2'))\n",
    "gwp = ipcc_2021_method.load()\n",
    "co2_cf = [i for i in gwp if 'Carbon dioxide' in bw.Database('biosphere3').get(i[0][1])['name']]"
   ]
  },
  {
   "cell_type": "code",
   "execution_count": 21,
   "metadata": {},
   "outputs": [],
   "source": [
    "# Write method\n",
    "metadata = {\"unit\": 'kg CO2'}\n",
    "co2_method = bw.Method(('IPCC 2021', 'climate change: CO2 emissions'))\n",
    "co2_method.register(**metadata)\n",
    "co2_method.write(co2_cf)\n",
    "co2_method.process()"
   ]
  },
  {
   "attachments": {},
   "cell_type": "markdown",
   "metadata": {},
   "source": [
    "**Land use: LANCA method for erosion potential due to land occupation and transformation (to/from)**"
   ]
  },
  {
   "cell_type": "code",
   "execution_count": 23,
   "metadata": {},
   "outputs": [
    {
     "name": "stdout",
     "output_type": "stream",
     "text": [
      "Applying strategy: csv_restore_tuples\n",
      "Applying strategy: csv_numerize\n",
      "Applying strategy: csv_drop_unknown\n",
      "Applying strategy: set_biosphere_type\n",
      "Applying strategy: drop_unspecified_subcategories\n",
      "Applying strategy: link_iterable_by_fields\n",
      "Applying strategy: drop_falsey_uncertainty_fields_but_keep_zeros\n",
      "Applying strategy: convert_uncertainty_types_to_integers\n",
      "Applied 8 strategies in 0.15 seconds\n",
      "Applying strategy: drop_unlinked_cfs\n",
      "Applied 1 strategies in 0.00 seconds\n"
     ]
    }
   ],
   "source": [
    "metadata = (\n",
    "            (\"LANCA v2.5 - land use\", \"erosion potential\"),\n",
    "            \"kg soil loss\",\n",
    "            \"LANCA v2.5 - Characterization Factors for Erosion Potential due to land occupation and transformation (to/from) \\\n",
    "            Available at: https://www.bookshop.fraunhofer.de/buch/LANCA/244600\",\n",
    "            Path(r\"..\\data\\Soil-Erosion-Potential_CFs_LANCA_v2.5.xlsx\")\n",
    "            )\n",
    "\n",
    "lanca_method = bw.ExcelLCIAImporter(filepath=metadata[-1], name=metadata[0], unit=metadata[1], description=metadata[2])\n",
    "lanca_method.apply_strategies()\n",
    "lanca_method.drop_unlinked()\n",
    "lanca_method.write_methods(overwrite=True, verbose=True)"
   ]
  },
  {
   "attachments": {},
   "cell_type": "markdown",
   "metadata": {},
   "source": [
    "**Human toxicity and ecotoxicity: Environmental Footprint 3.1**"
   ]
  },
  {
   "cell_type": "code",
   "execution_count": 5,
   "metadata": {},
   "outputs": [],
   "source": [
    "# Biosphere flows and CFs for toxicity and human toxicity categories in EF3.1 as implemented in Ecoinvent 3.9.1\n",
    "toxicity_categories = ['ecotoxicity: freshwater', 'human toxicity: carcinogenic', 'human toxicity: non-carcinogenic']\n",
    "ef31_data = lcia_ei_391[(lcia_ei_391['Method'] == 'EF v3.1') & (lcia_ei_391['Category'].isin(toxicity_categories))]"
   ]
  },
  {
   "cell_type": "code",
   "execution_count": 6,
   "metadata": {},
   "outputs": [],
   "source": [
    "# Biosphere database in ecoinvent 3.9 includes more elementary flows and the name of some flows changes with respect to 3.8\n",
    "# We use the ecoinvent change report file to identify such differences\n",
    "ef30_ei38vsei39 = lcia_change_ei39vs38[(lcia_change_ei39vs38['Method'] == 'EF v3.0') & (lcia_change_ei39vs38['Category - 3.8'].isin(toxicity_categories))]\n",
    "\n",
    "# Drop flows that are introduced in Ecoinvent 3.9; these flows are not considered here\n",
    "ef30_ei38vsei39 = ef30_ei38vsei39[ef30_ei38vsei39['Name - 3.8'].notna()]\n",
    "\n",
    "# Identify biosphere flows named differently in ecoinvent 3.9 vs 3.8\n",
    "bio_ei38_vs_ei39 = dict()\n",
    "for index, row in ef30_ei38vsei39.iterrows():\n",
    "    if row['Name - 3.8'] != row['Name - 3.9']:\n",
    "        bio_ei38_vs_ei39.update({(row['Name - 3.9'], row['Compartment - 3.9'], row['Subcompartment - 3.9']): (row['Name - 3.8'], row['Compartment - 3.8'], row['Subcompartment - 3.8'])})"
   ]
  },
  {
   "cell_type": "code",
   "execution_count": 7,
   "metadata": {},
   "outputs": [],
   "source": [
    "# List of elementary flows in biosphere in Ecoinvent 3.8\n",
    "flows_in_bio = []\n",
    "for flow in bw.Database('biosphere3'):\n",
    "    flow_info = (flow['name'], flow['categories'][0], flow['categories'][1] if len(flow['categories']) > 1 else 'unspecified')\n",
    "    flows_in_bio.append(flow_info)"
   ]
  },
  {
   "cell_type": "code",
   "execution_count": 8,
   "metadata": {},
   "outputs": [
    {
     "name": "stdout",
     "output_type": "stream",
     "text": [
      "Number of flows in biosphere: 4427\n",
      "Number of flows not in biosphere: 379\n"
     ]
    }
   ],
   "source": [
    "cf_method_implementation = []\n",
    "flows_not_in_bio = []\n",
    "for index, row in ef31_data.iterrows():\n",
    "    flow = (row['Name'], row['Compartment'], row['Subcompartment'])\n",
    "    if flow in bio_ei38_vs_ei39:\n",
    "        flow = bio_ei38_vs_ei39[flow]\n",
    "\n",
    "    if flow in flows_in_bio:\n",
    "        categories = (flow[1], flow[2]) if flow[2] != 'unspecified' else (flow[1],)\n",
    "        cf_method_implementation.append((row['Category'], flow[0], categories, row['CF']))\n",
    "    else:\n",
    "        flows_not_in_bio.append(flow)\n",
    "\n",
    "flows_not_in_bio = list(set(flows_not_in_bio))\n",
    "print('Number of flows in biosphere:', len(flows_in_bio))\n",
    "print('Number of flows not in biosphere:', len(flows_not_in_bio))"
   ]
  },
  {
   "cell_type": "code",
   "execution_count": 10,
   "metadata": {},
   "outputs": [],
   "source": [
    "methods_name = {\n",
    "                toxicity_categories[0]: ('EF v3.1 adapted to biosphere ei38', 'ecotoxicity: freshwater', 'comparative toxic unit for ecosystems (CTUe)'),\n",
    "                toxicity_categories[1]: ('EF v3.1 adapted to biosphere ei38', 'human toxicity: carcinogenic', 'comparative toxic unit for human (CTUh)'),\n",
    "                toxicity_categories[2]: ('EF v3.1 adapted to biosphere ei38', 'human toxicity: non-carcinogenic', 'comparative toxic unit for human (CTUh)')\n",
    "               }\n",
    "\n",
    "metadata = {toxicity_categories[0]: {\"unit\": 'CTUe'},\n",
    "            toxicity_categories[1]: {\"unit\": 'CTUh'},\n",
    "            toxicity_categories[2]: {\"unit\": 'CTUh'}\n",
    "           }\n",
    "\n",
    "for m in toxicity_categories:\n",
    "    method = bw.Method(methods_name[m])\n",
    "    method.register(**metadata[m])\n",
    "    cf_data = [(map_bio_keys[(i[1], i[2])], i[3]) for i in cf_method_implementation if i[0] == m]\n",
    "    method.write(cf_data)\n",
    "    method.process()"
   ]
  }
 ],
 "metadata": {
  "kernelspec": {
   "display_name": "Python 3.10.2 ('iri')",
   "language": "python",
   "name": "python3"
  },
  "language_info": {
   "codemirror_mode": {
    "name": "ipython",
    "version": 3
   },
   "file_extension": ".py",
   "mimetype": "text/x-python",
   "name": "python",
   "nbconvert_exporter": "python",
   "pygments_lexer": "ipython3",
   "version": "3.10.2"
  },
  "orig_nbformat": 4,
  "vscode": {
   "interpreter": {
    "hash": "394e99dae1b9983f376945e80450b385abffeb733a324985773e8d0fe4d49f32"
   }
  }
 },
 "nbformat": 4,
 "nbformat_minor": 2
}
