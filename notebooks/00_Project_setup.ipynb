{
 "cells": [
  {
   "cell_type": "code",
   "execution_count": 1,
   "metadata": {},
   "outputs": [],
   "source": [
    "import brightway2 as bw\n",
    "from premise import *\n",
    "from premise_gwp import add_premise_gwp"
   ]
  },
  {
   "cell_type": "markdown",
   "metadata": {},
   "source": [
    "## Create a new project"
   ]
  },
  {
   "cell_type": "code",
   "execution_count": 3,
   "metadata": {},
   "outputs": [],
   "source": [
    "PROJECT_NAME = 'iri' # <- insert your project name here\n",
    "bw.projects.set_current(PROJECT_NAME)"
   ]
  },
  {
   "cell_type": "markdown",
   "metadata": {},
   "source": [
    "## Install the biosphere3 database"
   ]
  },
  {
   "cell_type": "code",
   "execution_count": null,
   "metadata": {},
   "outputs": [],
   "source": [
    "bw.bw2setup()"
   ]
  },
  {
   "cell_type": "markdown",
   "metadata": {},
   "source": [
    "Since prospective databases generated with *premise* may involve inventories containing\n",
    "net negative emission technologies (NETs), it is highly recommended to account for\n",
    "biogenic CO2 flows as well as CO2 captured from the atmosphere.\n",
    "\n",
    "*premise_gwp* provides characterization factors for such flows as well as for hydrogen emissions to air. For further details see: https://github.com/polca/premise_gwp"
   ]
  },
  {
   "cell_type": "code",
   "execution_count": null,
   "metadata": {},
   "outputs": [],
   "source": [
    "add_premise_gwp()"
   ]
  },
  {
   "cell_type": "markdown",
   "metadata": {},
   "source": [
    "## Install Ecoinvent 3.8 cut-off system model"
   ]
  },
  {
   "cell_type": "code",
   "execution_count": null,
   "metadata": {},
   "outputs": [],
   "source": [
    "folder = r'.../ei38/datasets' # <- insert the path to ecoinvent 3.8 here\n",
    "ei38 = bw.SingleOutputEcospold2Importer(folder, 'ecoinvent 3.8 cutoff')\n",
    "ei38.apply_strategies()\n",
    "ei38.statistics()\n",
    "ei38.write_database()"
   ]
  },
  {
   "cell_type": "markdown",
   "metadata": {},
   "source": [
    "## Install prospective databases with premise\n",
    "\n",
    "The use of default IAM scenarios included in *premise* requires a decryption key to be requested from the library maintainers. For further details on *premise* see: https://github.com/polca/premise"
   ]
  },
  {
   "cell_type": "code",
   "execution_count": null,
   "metadata": {},
   "outputs": [],
   "source": [
    "DECRYPTION_KEY = 'XXXXXXXXXXXXXXXXX' # <- insert your decryption key here"
   ]
  },
  {
   "cell_type": "code",
   "execution_count": null,
   "metadata": {},
   "outputs": [],
   "source": [
    "ei_future = NewDatabase(\n",
    "                scenarios=[{\"model\": \"image\", \"pathway\":\"SSP2-RCP19\", \"year\":2030},\n",
    "                           {\"model\": \"image\", \"pathway\":\"SSP2-RCP19\", \"year\":2040},\n",
    "                           {\"model\": \"image\", \"pathway\":\"SSP2-RCP19\", \"year\":2050},\n",
    "                          ],\n",
    "                source_db=\"ecoinvent 3.8 cutoff\",\n",
    "                source_version=\"3.8\",\n",
    "                key=DECRYPTION_KEY)"
   ]
  },
  {
   "cell_type": "code",
   "execution_count": null,
   "metadata": {},
   "outputs": [],
   "source": [
    "ei_future.update_all()"
   ]
  },
  {
   "cell_type": "code",
   "execution_count": null,
   "metadata": {},
   "outputs": [],
   "source": [
    "ei_future.write_db_to_brightway(name=[\"ecoinvent 3.8 cutoff, IMAGE SSP2-RCP19, 2030 (premise v1.3.9)\",\n",
    "                                      \"ecoinvent 3.8 cutoff, IMAGE SSP2-RCP19, 2040 (premise v1.3.9)\",\n",
    "                                      \"ecoinvent 3.8 cutoff, IMAGE SSP2-RCP19, 2050 (premise v1.3.9)\",\n",
    "                                     ])"
   ]
  }
 ],
 "metadata": {
  "kernelspec": {
   "display_name": "Python 3.10.2 ('iri')",
   "language": "python",
   "name": "python3"
  },
  "language_info": {
   "codemirror_mode": {
    "name": "ipython",
    "version": 3
   },
   "file_extension": ".py",
   "mimetype": "text/x-python",
   "name": "python",
   "nbconvert_exporter": "python",
   "pygments_lexer": "ipython3",
   "version": "3.10.2"
  },
  "orig_nbformat": 4,
  "vscode": {
   "interpreter": {
    "hash": "394e99dae1b9983f376945e80450b385abffeb733a324985773e8d0fe4d49f32"
   }
  }
 },
 "nbformat": 4,
 "nbformat_minor": 2
}
