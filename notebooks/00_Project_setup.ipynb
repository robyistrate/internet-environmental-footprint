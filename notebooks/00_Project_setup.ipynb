{
 "cells": [
  {
   "cell_type": "code",
   "execution_count": 87,
   "metadata": {},
   "outputs": [],
   "source": [
    "import brightway2 as bw\n",
    "from bw2io import ExcelLCIAImporter\n",
    "import pandas as pd\n",
    "from premise import *\n",
    "from premise_gwp import add_premise_gwp\n",
    "from pathlib import Path"
   ]
  },
  {
   "cell_type": "markdown",
   "metadata": {},
   "source": [
    "## Create a new project"
   ]
  },
  {
   "cell_type": "code",
   "execution_count": 88,
   "metadata": {},
   "outputs": [],
   "source": [
    "PROJECT_NAME = 'iri' # <- insert your project name here\n",
    "bw.projects.set_current(PROJECT_NAME)"
   ]
  },
  {
   "cell_type": "markdown",
   "metadata": {},
   "source": [
    "## Install databases"
   ]
  },
  {
   "cell_type": "markdown",
   "metadata": {},
   "source": [
    "**Biosphere database**"
   ]
  },
  {
   "cell_type": "code",
   "execution_count": null,
   "metadata": {},
   "outputs": [],
   "source": [
    "if 'biosphere3' not in bw.databases:\n",
    "    bw.bw2setup()"
   ]
  },
  {
   "cell_type": "markdown",
   "metadata": {},
   "source": [
    "**Ecoinvent v3.8 cut-off system model**"
   ]
  },
  {
   "cell_type": "code",
   "execution_count": null,
   "metadata": {},
   "outputs": [],
   "source": [
    "ECOINVENT_DIR = r'.../ei38/datasets' # <- insert the path to ecoinvent 3.8 here\n",
    "\n",
    "if 'ecoinvent 3.8 cutoff' in bw.databases:\n",
    "    pass\n",
    "else:\n",
    "    ei38 = bw.SingleOutputEcospold2Importer(ECOINVENT_DIR, 'ecoinvent 3.8 cutoff')\n",
    "    ei38.apply_strategies()\n",
    "    ei38.statistics()\n",
    "    ei38.write_database()"
   ]
  },
  {
   "cell_type": "markdown",
   "metadata": {},
   "source": [
    "**Prospective databases with premise**\n",
    "\n",
    "The use of default IAM scenarios included in *premise* requires a decryption key to be requested from the library maintainers. For further details on *premise* see: https://github.com/polca/premise"
   ]
  },
  {
   "cell_type": "code",
   "execution_count": null,
   "metadata": {},
   "outputs": [],
   "source": [
    "DECRYPTION_KEY = 'XXXXXXXXXXXXXXXXX' # <- insert your decryption key here"
   ]
  },
  {
   "cell_type": "code",
   "execution_count": null,
   "metadata": {},
   "outputs": [],
   "source": [
    "ei_future = NewDatabase(\n",
    "                scenarios=[{\"model\": \"image\", \"pathway\":\"SSP2-RCP19\", \"year\":2030},\n",
    "                           {\"model\": \"image\", \"pathway\":\"SSP2-RCP19\", \"year\":2040},\n",
    "                           {\"model\": \"image\", \"pathway\":\"SSP2-RCP19\", \"year\":2050},\n",
    "                          ],\n",
    "                source_db=\"ecoinvent 3.8 cutoff\",\n",
    "                source_version=\"3.8\",\n",
    "                key=DECRYPTION_KEY)"
   ]
  },
  {
   "cell_type": "code",
   "execution_count": null,
   "metadata": {},
   "outputs": [],
   "source": [
    "ei_future.update_all()"
   ]
  },
  {
   "cell_type": "code",
   "execution_count": null,
   "metadata": {},
   "outputs": [],
   "source": [
    "ei_future.write_db_to_brightway(name=[\"ecoinvent 3.8 cutoff, IMAGE SSP2-RCP19, 2030\",\n",
    "                                      \"ecoinvent 3.8 cutoff, IMAGE SSP2-RCP19, 2040\",\n",
    "                                      \"ecoinvent 3.8 cutoff, IMAGE SSP2-RCP19, 2050\",\n",
    "                                     ])"
   ]
  },
  {
   "attachments": {},
   "cell_type": "markdown",
   "metadata": {},
   "source": [
    "## Create/update LCIA methods\n",
    "\n",
    "Here we implement some new methods that are not available in the biosphere version compatible with Ecoinvent 3.8, including:\n",
    "\n",
    "    - IPCC 2021 global warming potentials (GWPs) adapted to premise\n",
    "    - EF 3.1 for ecotoxicity and human toxicity\n",
    "    - LANCA v2.5 for land use soil erosion\n",
    "\n",
    "The following data files are required (to be obtained from the corresponding sources:\n",
    "\n",
    "    - Methods implementation in Ecoinvent 3.9: \"LCIA Implementation 3.9.1.xlsx\" (available at https://ecoinvent.org/)\n",
    "    - Because the name of some elementary flows change from Ecoinvent 3.8 to 3.9, the change report file is also required: \"Change Report Annex v3.8 - v3.9.xlsx\" (available at https://ecoinvent.org/)\n",
    "    - 100-year GWPs adapted to premise: \"lcia_gwp_100a_w_bio.xlsx\" (available at https://github.com/polca/premise_gwp)\n",
    "    - Caracterization factors from LANCA v2.5 (data file provided in this repository)"
   ]
  },
  {
   "cell_type": "code",
   "execution_count": 103,
   "metadata": {},
   "outputs": [],
   "source": [
    "# Import LCIA implementation data\n",
    "METHODS_DIR = Path(r\"..\\data\\LCIA Implementation 3.9.1.xlsx\")\n",
    "CHANGE_REPORT_DIR = Path(r'..\\data\\Change Report Annex v3.8 - v3.9.xlsx')\n",
    "PREMISE_GWP_DIR = Path(r'..\\data\\lcia_gwp_100a_w_bio.xlsx')\n",
    "\n",
    "lcia_ei_391 = pd.read_excel(METHODS_DIR, sheet_name='CFs')\n",
    "lcia_change_ei39vs38 = pd.read_excel(CHANGE_REPORT_DIR, sheet_name='LCIA Changes')\n",
    "premise_gwp = pd.read_excel(PREMISE_GWP_DIR)"
   ]
  },
  {
   "cell_type": "code",
   "execution_count": 97,
   "metadata": {},
   "outputs": [],
   "source": [
    "# Map biosphere flows\n",
    "map_bio_keys = {}\n",
    "for ef in bw.Database('biosphere3'):\n",
    "    map_bio_keys[(ef['name'], ef['categories'])] = ef.key"
   ]
  },
  {
   "attachments": {},
   "cell_type": "markdown",
   "metadata": {},
   "source": [
    "**Climate change: IPCC2021 adapted to premise**\n",
    "\n",
    "Since prospective databases generated with *premise* may involve inventories containing\n",
    "net negative emission technologies (NETs), it is highly recommended to account for\n",
    "biogenic CO2 flows as well as CO2 captured from the atmosphere. For further details see: https://github.com/polca/premise_gwp\n",
    "\n",
    "Premise GWPs are based on IPCC2013. Here we update the method with the GWPs from IPCC2021"
   ]
  },
  {
   "cell_type": "code",
   "execution_count": null,
   "metadata": {},
   "outputs": [],
   "source": [
    "# IPCC 2021 method\n",
    "ipcc2021_gwp_100a = lcia_ei_391[(lcia_ei_391['Method'] == 'IPCC 2021') & \n",
    "                                (lcia_ei_391['Category'] == 'climate change: including SLCFs') & \n",
    "                                (lcia_ei_391['Indicator'] == 'global warming potential (GWP100)')]\n",
    "    \n",
    "# Adapt GWPs from IPCC 2021 to premise GWPs:\n",
    "premise_ipcc2021_gwp = dict()\n",
    "for index, row in premise_gwp.iterrows():\n",
    "    premise_ipcc2021_gwp.update({(row['name'], row['categories']): row['amount']})\n",
    "\n",
    "    # Update existing and add new characterization factors based on IPCC2021\n",
    "    for index, row in ipcc2021_gwp_100a.iterrows():\n",
    "        ef_info = (row['Name'], row['Compartment'] + '::' + row['Subcompartment'])\n",
    "        # Update existing elementary flows:\n",
    "        if ef_info in premise_ipcc2021_gwp:\n",
    "            premise_ipcc2021_gwp[ef_info] = row['CF']\n",
    "        else:\n",
    "           premise_ipcc2021_gwp.update({ef_info: row['CF']})\n",
    "\n",
    "    # Export to Excel:\n",
    "    premise_ipcc2021_df = pd.DataFrame(premise_ipcc2021, index=['amount']).T.reset_index()\n",
    "    premise_ipcc2021_df.columns = ['name', 'categories', 'amount']\n",
    "    premise_ipcc2021_df.to_excel(gwp_premise_files[indicator][2], index=False)"
   ]
  },
  {
   "attachments": {},
   "cell_type": "markdown",
   "metadata": {},
   "source": [
    "**Climate change: CO2 emissions**\n",
    "\n",
    "The carrying capacity for climate change is defined based on the remaining carbon budget. This requires quantifying the life cycle CO2 emissions. We create a new method to quantify this emissions"
   ]
  },
  {
   "cell_type": "code",
   "execution_count": 33,
   "metadata": {},
   "outputs": [],
   "source": [
    "# Use the new IPCC2021 method to retrieve CO2 flows and characterization factors\n",
    "ipcc_2021_method = bw.Method(('IPCC 2021', 'climate change: including SLCFs', 'GWP 100a, incl. H and bio CO2'))\n",
    "gwp = ipcc_2021_method.load()\n",
    "co2_cf = [i for i in gwp if 'Carbon dioxide' in bw.Database('biosphere3').get(i[0][1])['name']]"
   ]
  },
  {
   "cell_type": "code",
   "execution_count": 35,
   "metadata": {},
   "outputs": [
    {
     "data": {
      "text/plain": [
       "[('Carbon dioxide, in air', -1),\n",
       " ('Carbon dioxide, non-fossil, resource correction', -1),\n",
       " ('Carbon dioxide, non-fossil', 1),\n",
       " ('Carbon dioxide, non-fossil', 1),\n",
       " ('Carbon dioxide, non-fossil', 1),\n",
       " ('Carbon dioxide, non-fossil', 1),\n",
       " ('Carbon dioxide, fossil', 1),\n",
       " ('Carbon dioxide, fossil', 1),\n",
       " ('Carbon dioxide, fossil', 1),\n",
       " ('Carbon dioxide, fossil', 1),\n",
       " ('Carbon dioxide, fossil', 1),\n",
       " ('Carbon dioxide, from soil or biomass stock', 1),\n",
       " ('Carbon dioxide, from soil or biomass stock', 1),\n",
       " ('Carbon dioxide, from soil or biomass stock', 1),\n",
       " ('Carbon dioxide, from soil or biomass stock', 1),\n",
       " ('Carbon dioxide, from soil or biomass stock', 1),\n",
       " ('Carbon dioxide, from soil or biomass stock', 1),\n",
       " ('Carbon dioxide, to soil or biomass stock', -1),\n",
       " ('Carbon dioxide, to soil or biomass stock', -1),\n",
       " ('Carbon dioxide, to soil or biomass stock', -1),\n",
       " ('Carbon dioxide, to soil or biomass stock', -1)]"
      ]
     },
     "execution_count": 35,
     "metadata": {},
     "output_type": "execute_result"
    }
   ],
   "source": [
    "[(bw.Database('biosphere3').get(i[0][1])['name'], i[1]) for i in co2_cf]"
   ]
  },
  {
   "cell_type": "code",
   "execution_count": 37,
   "metadata": {},
   "outputs": [],
   "source": [
    "# Write method\n",
    "method = bw.Method(('IPCC 2021', 'climate change: CO2 emissions'))\n",
    "metadata = {\"unit\": 'kg CO2'}\n",
    "method.register(**metadata)\n",
    "method.write(co2_cf)\n",
    "method.process()"
   ]
  },
  {
   "attachments": {},
   "cell_type": "markdown",
   "metadata": {},
   "source": [
    "**Land use: LANCA method for erosion potential due to land occupation and transformation (to/from)**"
   ]
  },
  {
   "cell_type": "code",
   "execution_count": 86,
   "metadata": {},
   "outputs": [
    {
     "name": "stdout",
     "output_type": "stream",
     "text": [
      "Applying strategy: csv_restore_tuples\n",
      "Applying strategy: csv_numerize\n",
      "Applying strategy: csv_drop_unknown\n",
      "Applying strategy: set_biosphere_type\n",
      "Applying strategy: drop_unspecified_subcategories\n",
      "Applying strategy: link_iterable_by_fields\n",
      "Applying strategy: drop_falsey_uncertainty_fields_but_keep_zeros\n",
      "Applying strategy: convert_uncertainty_types_to_integers\n",
      "Applied 8 strategies in 0.14 seconds\n",
      "Applying strategy: drop_unlinked_cfs\n",
      "Applied 1 strategies in 0.00 seconds\n",
      "Wrote 1 LCIA methods with 135 characterization factors\n"
     ]
    }
   ],
   "source": [
    "lanca_cat = (\n",
    "             (\"LANCA v2.5 - land use\", \"erosion potential\"),\n",
    "             \"kg soil loss\",\n",
    "             \"LANCA v2.5 - Characterization Factors for Erosion Potential due to land occupation and transformation (to/from) \\\n",
    "             Available at: https://www.bookshop.fraunhofer.de/buch/LANCA/244600\",\n",
    "             \"Soil-Erosion-Potential_CFs_LANCA_v1.5.xlsx\"\n",
    "            )\n",
    "\n",
    "lanca_method = bw.ExcelLCIAImporter(filepath=Path(str(r\"..\\data\") + f\"/{lanca_cat[-1]}\"), name=lanca_cat[0], unit=lanca_cat[1], description=lanca_cat[2])\n",
    "\n",
    "# apply formatting strategies\n",
    "lanca_method.apply_strategies()\n",
    "\n",
    "# drop unlinked flows\n",
    "lanca_method.drop_unlinked()\n",
    "\n",
    "# write method\n",
    "lanca_method.write_methods(overwrite=True, verbose=True)"
   ]
  },
  {
   "cell_type": "code",
   "execution_count": null,
   "metadata": {},
   "outputs": [],
   "source": []
  },
  {
   "cell_type": "code",
   "execution_count": null,
   "metadata": {},
   "outputs": [],
   "source": []
  },
  {
   "cell_type": "code",
   "execution_count": 84,
   "metadata": {},
   "outputs": [
    {
     "data": {
      "text/plain": [
       "0"
      ]
     },
     "execution_count": 84,
     "metadata": {},
     "output_type": "execute_result"
    }
   ],
   "source": [
    "len(list(lanca_method.unlinked))"
   ]
  },
  {
   "cell_type": "code",
   "execution_count": 68,
   "metadata": {},
   "outputs": [
    {
     "data": {
      "text/plain": [
       "['Transformation, to agriculture',\n",
       " 'Transformation, to agriculture, mosaic',\n",
       " 'Transformation, to annual crop, fallow',\n",
       " 'Transformation, to forest, natural',\n",
       " 'Transformation, to forest, used',\n",
       " 'Transformation, to grassland',\n",
       " 'Transformation, to grassland/pasture/meadow',\n",
       " 'Transformation, to traffic area',\n",
       " 'Transformation, to unspecified, used',\n",
       " 'Transformation, to urban',\n",
       " 'Transformation, to urban, green areas',\n",
       " 'Transformation, to urban/industrial fallow',\n",
       " 'Transformation, to water bodies, artificial']"
      ]
     },
     "execution_count": 68,
     "metadata": {},
     "output_type": "execute_result"
    }
   ],
   "source": [
    "occupation_not_in = [i['name'] for i in list(lanca_method.unlinked) if 'Transformation, to' in i['name']]\n",
    "occupation_not_in"
   ]
  },
  {
   "cell_type": "code",
   "execution_count": 69,
   "metadata": {},
   "outputs": [
    {
     "name": "stdout",
     "output_type": "stream",
     "text": [
      "Transformation, to seabed, drilling and mining\n",
      "Transformation, to seabed, natural (non-use)\n",
      "Transformation, to field margin/hedgerow\n",
      "Transformation, to bare area (non-use)\n",
      "Transformation, to lake, artificial\n",
      "Transformation, to arable land, unspecified use\n",
      "Transformation, to seabed, unspecified\n",
      "Transformation, to river, natural (non-use)\n",
      "Transformation, to river, artificial\n",
      "Transformation, to urban/industrial fallow (non-use)\n",
      "Transformation, to annual crop, flooded crop\n",
      "Transformation, to inland waterbody, unspecified\n",
      "Transformation, to wetland, coastal (non-use)\n",
      "Transformation, to snow and ice (non-use)\n",
      "Transformation, to lake, natural (non-use)\n",
      "Transformation, to unspecified\n",
      "Transformation, to heterogeneous, agricultural\n",
      "Transformation, to seabed, infrastructure\n",
      "Transformation, to urban, green area\n",
      "Transformation, to cropland fallow (non-use)\n"
     ]
    }
   ],
   "source": [
    "for ii in [i[0] for i in map_bio_keys if 'Transformation, to' in i[0]]:\n",
    "    if ii not in [i['name'] for i in lanca_method.data[0]['exchanges'] if 'Transformation, to' in i['name']]:\n",
    "        print(ii)"
   ]
  },
  {
   "cell_type": "code",
   "execution_count": null,
   "metadata": {},
   "outputs": [],
   "source": []
  }
 ],
 "metadata": {
  "kernelspec": {
   "display_name": "Python 3.10.2 ('iri')",
   "language": "python",
   "name": "python3"
  },
  "language_info": {
   "codemirror_mode": {
    "name": "ipython",
    "version": 3
   },
   "file_extension": ".py",
   "mimetype": "text/x-python",
   "name": "python",
   "nbconvert_exporter": "python",
   "pygments_lexer": "ipython3",
   "version": "3.10.2"
  },
  "orig_nbformat": 4,
  "vscode": {
   "interpreter": {
    "hash": "394e99dae1b9983f376945e80450b385abffeb733a324985773e8d0fe4d49f32"
   }
  }
 },
 "nbformat": 4,
 "nbformat_minor": 2
}
